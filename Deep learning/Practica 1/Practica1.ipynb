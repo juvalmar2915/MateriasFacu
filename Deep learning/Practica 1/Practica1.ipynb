{
  "nbformat": 4,
  "nbformat_minor": 0,
  "metadata": {
    "colab": {
      "provenance": [],
      "collapsed_sections": []
    },
    "kernelspec": {
      "name": "python3",
      "display_name": "Python 3"
    },
    "language_info": {
      "name": "python"
    }
  },
  "cells": [
    {
      "cell_type": "code",
      "execution_count": 3,
      "metadata": {
        "colab": {
          "base_uri": "https://localhost:8080/",
          "height": 680
        },
        "id": "doA4wqLq-p4k",
        "outputId": "43af67aa-55f9-461e-f472-f5fd37223a36"
      },
      "outputs": [
        {
          "output_type": "stream",
          "name": "stdout",
          "text": [
            "toyota           32\n",
            "nissan           18\n",
            "mazda            17\n",
            "mitsubishi       13\n",
            "honda            13\n",
            "volkswagen       12\n",
            "subaru           12\n",
            "peugot           11\n",
            "volvo            11\n",
            "dodge             9\n",
            "mercedes-benz     8\n",
            "bmw               8\n",
            "audi              7\n",
            "plymouth          7\n",
            "saab              6\n",
            "porsche           5\n",
            "isuzu             4\n",
            "jaguar            3\n",
            "chevrolet         3\n",
            "alfa-romero       3\n",
            "renault           2\n",
            "mercury           1\n",
            "Name:  make, dtype: int64\n"
          ]
        },
        {
          "output_type": "display_data",
          "data": {
            "text/plain": [
              "<Figure size 432x288 with 1 Axes>"
            ],
            "image/png": "[encoded data removed]"
          },
          "metadata": {
            "needs_background": "light"
          }
        }
      ],
      "source": [
        "import pandas as pd\n",
        "import numpy as np\n",
        "import matplotlib.pyplot as plt\n",
        "\n",
        "datos = pd.read_csv('/content/drive/MyDrive/Colab Notebooks/AUTOS.csv')\n",
        "barras = pd.value_counts(datos[' make'])\n",
        "print(barras)\n",
        "#Diagrama de barras ordenado por frecuencia de Fabricante\n",
        "plt.figure()\n",
        "N = len(barras)\n",
        "plt.bar(np.arange( N ), barras)  # Gráfico de barras\n",
        "plt.title('Fabricante')      # Colocamos el título\n",
        "plt.ylabel('Frecuencia')\n",
        "# Colocamos las etiquetas del eje x\n",
        "plt.xticks(np.arange( N ), barras.index)\n",
        "plt.show()"
      ]
    },
    {
      "cell_type": "code",
      "source": [
        "import pandas as pd\n",
        "import numpy as np\n",
        "import matplotlib.pyplot as plt\n",
        "\n",
        "datos = pd.read_csv('/content/drive/MyDrive/Colab Notebooks/AUTOS.csv')\n",
        "\n",
        "\n",
        "#Histograma ordenado por compression-ratio y frecuencia\n",
        "plt.figure()\n",
        "plt.hist(datos[' compression-ratio'], bins = 10, edgecolor = 'black', \\\n",
        "         linewidth=1)\n",
        "plt.xlabel('Ratio de compresion')\n",
        "plt.ylabel('Frecuencia')\n",
        "plt.title('Histograma del atributo \"compression-ratio\"')\n",
        "plt.show()"
      ],
      "metadata": {
        "colab": {
          "base_uri": "https://localhost:8080/",
          "height": 295
        },
        "id": "XDV8BGz5FdjV",
        "outputId": "a8428689-edb0-42ff-c2c9-617c0ac8e135"
      },
      "execution_count": 4,
      "outputs": [
        {
          "output_type": "display_data",
          "data": {
            "text/plain": [
              "<Figure size 432x288 with 1 Axes>"
            ],
            "image/png": "[encoded data removed]"
          },
          "metadata": {
            "needs_background": "light"
          }
        }
      ]
    },
    {
      "cell_type": "code",
      "source": [
        "#Diagrama de caja por horsepower\n",
        "datos.boxplot(column=[' horsepower'], vert=False)"
      ],
      "metadata": {
        "colab": {
          "base_uri": "https://localhost:8080/",
          "height": 282
        },
        "id": "YKdMgzZCF9ba",
        "outputId": "76958f53-5e8f-4bbf-9353-e9b16d519fcd"
      },
      "execution_count": 5,
      "outputs": [
        {
          "output_type": "execute_result",
          "data": {
            "text/plain": [
              "<matplotlib.axes._subplots.AxesSubplot at 0x7f74d173fed0>"
            ]
          },
          "metadata": {},
          "execution_count": 5
        },
        {
          "output_type": "display_data",
          "data": {
            "text/plain": [
              "<Figure size 432x288 with 1 Axes>"
            ],
            "image/png": "[encoded data removed]"
          },
          "metadata": {
            "needs_background": "light"
          }
        }
      ]
    },
    {
      "cell_type": "code",
      "source": [
        "import seaborn as sns\n",
        "#Diagrama de dispersion relacion Precio/Horsepower\n",
        "plt.figure()\n",
        "plt.scatter(datos[' horsepower'],datos[' price'])\n",
        "plt.xlabel('Horsepower')\n",
        "plt.ylabel('Price')\n",
        "plt.show()\n"
      ],
      "metadata": {
        "colab": {
          "base_uri": "https://localhost:8080/",
          "height": 279
        },
        "id": "agCvQpSPGoFU",
        "outputId": "e1054c35-c18d-48b4-c76b-6c531543a0ad"
      },
      "execution_count": 6,
      "outputs": [
        {
          "output_type": "display_data",
          "data": {
            "text/plain": [
              "<Figure size 432x288 with 1 Axes>"
            ],
            "image/png": "[encoded data removed]"
          },
          "metadata": {
            "needs_background": "light"
          }
        }
      ]
    },
    {
      "cell_type": "markdown",
      "source": [
        "#Ej 4 "
      ],
      "metadata": {
        "id": "wNrdwHWCnZYW"
      }
    },
    {
      "cell_type": "code",
      "source": [
        "datos.boxplot(column=[' horsepower'], vert=False)\n",
        "datos.describe()[' horsepower']"
      ],
      "metadata": {
        "colab": {
          "base_uri": "https://localhost:8080/",
          "height": 421
        },
        "id": "68odF84qm93m",
        "outputId": "c8f9d756-a67e-4363-87e6-fdd7effdf08b"
      },
      "execution_count": 7,
      "outputs": [
        {
          "output_type": "execute_result",
          "data": {
            "text/plain": [
              "count    203.000000\n",
              "mean     104.256158\n",
              "std       39.714369\n",
              "min       48.000000\n",
              "25%       70.000000\n",
              "50%       95.000000\n",
              "75%      116.000000\n",
              "max      288.000000\n",
              "Name:  horsepower, dtype: float64"
            ]
          },
          "metadata": {},
          "execution_count": 7
        },
        {
          "output_type": "display_data",
          "data": {
            "text/plain": [
              "<Figure size 432x288 with 1 Axes>"
            ],
            "image/png": "[encoded data removed]"
          },
          "metadata": {
            "needs_background": "light"
          }
        }
      ]
    },
    {
      "cell_type": "code",
      "source": [
        "#create a function to find outliers using IQR\n",
        "\n",
        "def find_outliers_IQR(df):\n",
        "\n",
        "   q1=df.quantile(0.25)\n",
        "\n",
        "   q3=df.quantile(0.75)\n",
        "\n",
        "   IQR=q3-q1\n",
        "\n",
        "   outliers = df[((df<(q1-1.5*IQR)) | (df>(q3+1.5*IQR)))]\n",
        "\n",
        "   return outliers"
      ],
      "metadata": {
        "id": "NU704EyIsN1f"
      },
      "execution_count": 8,
      "outputs": []
    },
    {
      "cell_type": "code",
      "source": [
        "outliers = find_outliers_IQR(datos[' horsepower'])\n",
        "\n",
        "print('number of outliers: '+ str(len(outliers)))\n",
        "\n",
        "print('max outlier value: '+ str(outliers.max()))\n",
        "\n",
        "print('min outlier value: '+ str(outliers.min()))\n",
        "outliers"
      ],
      "metadata": {
        "colab": {
          "base_uri": "https://localhost:8080/"
        },
        "id": "0_0DO434rkUO",
        "outputId": "0cff6488-bf49-4918-ac82-8bb7c2cad186"
      },
      "execution_count": 9,
      "outputs": [
        {
          "output_type": "stream",
          "name": "stdout",
          "text": [
            "number of outliers: 6\n",
            "max outlier value: 288.0\n",
            "min outlier value: 200.0\n"
          ]
        },
        {
          "output_type": "execute_result",
          "data": {
            "text/plain": [
              "49     262.0\n",
              "105    200.0\n",
              "126    207.0\n",
              "127    207.0\n",
              "128    207.0\n",
              "129    288.0\n",
              "Name:  horsepower, dtype: float64"
            ]
          },
          "metadata": {},
          "execution_count": 9
        }
      ]
    },
    {
      "cell_type": "markdown",
      "source": [
        "#Ej 5"
      ],
      "metadata": {
        "id": "jf4yvSRaunEy"
      }
    },
    {
      "cell_type": "code",
      "source": [
        "datos.groupby(' fuel-type').describe()[' price'].unstack(1)"
      ],
      "metadata": {
        "colab": {
          "base_uri": "https://localhost:8080/"
        },
        "id": "RUXL-btauoSs",
        "outputId": "a2c82ba0-9571-44ce-b9dd-9a7f716a8658"
      },
      "execution_count": 10,
      "outputs": [
        {
          "output_type": "execute_result",
          "data": {
            "text/plain": [
              "        fuel-type\n",
              "count  diesel           20.000000\n",
              "       gas             181.000000\n",
              "mean   diesel        15838.150000\n",
              "       gas           12916.408840\n",
              "std    diesel         7759.843713\n",
              "       gas            7934.923212\n",
              "min    diesel         7099.000000\n",
              "       gas            5118.000000\n",
              "25%    diesel         9120.000000\n",
              "       gas            7609.000000\n",
              "50%    diesel        13852.500000\n",
              "       gas            9989.000000\n",
              "75%    diesel        19375.500000\n",
              "       gas           15985.000000\n",
              "max    diesel        31600.000000\n",
              "       gas           45400.000000\n",
              "dtype: float64"
            ]
          },
          "metadata": {},
          "execution_count": 10
        }
      ]
    },
    {
      "cell_type": "code",
      "source": [
        "import seaborn as sns\n",
        "sns.boxplot(x=' price', y=' fuel-type', data=datos)"
      ],
      "metadata": {
        "colab": {
          "base_uri": "https://localhost:8080/",
          "height": 296
        },
        "id": "UyqR8xIwyeWK",
        "outputId": "2c103e34-e9b1-46bd-8bef-edcb35945a55"
      },
      "execution_count": 11,
      "outputs": [
        {
          "output_type": "execute_result",
          "data": {
            "text/plain": [
              "<matplotlib.axes._subplots.AxesSubplot at 0x7f74c4cbbb90>"
            ]
          },
          "metadata": {},
          "execution_count": 11
        },
        {
          "output_type": "display_data",
          "data": {
            "text/plain": [
              "<Figure size 432x288 with 1 Axes>"
            ],
            "image/png": "[encoded data removed]"
          },
          "metadata": {
            "needs_background": "light"
          }
        }
      ]
    },
    {
      "cell_type": "markdown",
      "source": [
        "#Ej 6"
      ],
      "metadata": {
        "id": "QA5_eew04OaF"
      }
    },
    {
      "cell_type": "code",
      "source": [
        "import seaborn as sns\n",
        "#Diagrama de dispersion relacion Precio/Horsepower\n",
        "plt.figure()\n",
        "plt.scatter(datos[' curb-weight'],datos[' highway-mpg'])\n",
        "plt.xlabel('Curb-weight')\n",
        "plt.ylabel('Highway-mpg')\n",
        "plt.show()\n",
        "\n",
        "datos.corr()[' curb-weight'][' highway-mpg']"
      ],
      "metadata": {
        "colab": {
          "base_uri": "https://localhost:8080/",
          "height": 296
        },
        "id": "sP4AmuO64P7M",
        "outputId": "e1c7707e-9c43-4e46-bbe5-e814865bc5e9"
      },
      "execution_count": 12,
      "outputs": [
        {
          "output_type": "display_data",
          "data": {
            "text/plain": [
              "<Figure size 432x288 with 1 Axes>"
            ],
            "image/png": "[encoded data removed]"
          },
          "metadata": {
            "needs_background": "light"
          }
        },
        {
          "output_type": "execute_result",
          "data": {
            "text/plain": [
              "-0.7974647922811803"
            ]
          },
          "metadata": {},
          "execution_count": 12
        }
      ]
    },
    {
      "cell_type": "markdown",
      "source": [
        "#Ej 8"
      ],
      "metadata": {
        "id": "bdOnsUdFbXcv"
      }
    },
    {
      "cell_type": "code",
      "source": [
        "import pandas as pd\n",
        "import numpy as np\n",
        "etiq = [\"bajo\", \"alto\"]\n",
        "# Discretización por RANGO\n",
        "columna = pd.cut(datos[' engine-size'],bins=len(etiq),labels=etiq)\n",
        "datos[' disc1']= pd.Series.to_frame(columna)\n",
        "print(pd.value_counts(datos[' disc1']))"
      ],
      "metadata": {
        "colab": {
          "base_uri": "https://localhost:8080/"
        },
        "id": "PC_atrAKbX4q",
        "outputId": "022dcf7c-803c-44d0-b28f-3b3149a5e379"
      },
      "execution_count": 13,
      "outputs": [
        {
          "output_type": "stream",
          "name": "stdout",
          "text": [
            "bajo    191\n",
            "alto     14\n",
            "Name:  disc1, dtype: int64\n"
          ]
        }
      ]
    },
    {
      "cell_type": "markdown",
      "source": [
        "#Ej 9\n"
      ],
      "metadata": {
        "id": "aJhhTcFVnZij"
      }
    },
    {
      "cell_type": "code",
      "source": [
        "etiq1 = [\"bajo\",\"alto\"]\n",
        "# Discretización por FRECUENCIA\n",
        "columna1 = pd.qcut(datos[\" engine-size\"], q=len(etiq1), labels=etiq1)\n",
        "datos[' disc2']= pd.Series.to_frame(columna1)\n",
        "print(pd.value_counts(datos[' disc2']))\n",
        "datos[' engine-size']"
      ],
      "metadata": {
        "colab": {
          "base_uri": "https://localhost:8080/"
        },
        "id": "O43tzNPLlXoB",
        "outputId": "8f1e0c43-75d3-47b1-f8df-a22d46c3b5f2"
      },
      "execution_count": 14,
      "outputs": [
        {
          "output_type": "stream",
          "name": "stdout",
          "text": [
            "bajo    109\n",
            "alto     96\n",
            "Name:  disc2, dtype: int64\n"
          ]
        },
        {
          "output_type": "execute_result",
          "data": {
            "text/plain": [
              "0      130\n",
              "1      130\n",
              "2      152\n",
              "3      109\n",
              "4      136\n",
              "      ... \n",
              "200    141\n",
              "201    141\n",
              "202    173\n",
              "203    145\n",
              "204    141\n",
              "Name:  engine-size, Length: 205, dtype: int64"
            ]
          },
          "metadata": {},
          "execution_count": 14
        }
      ]
    },
    {
      "cell_type": "markdown",
      "source": [
        "#Ej 10"
      ],
      "metadata": {
        "id": "QWpAaGfqjKQp"
      }
    },
    {
      "cell_type": "code",
      "source": [
        "import pandas as pd\n",
        "import numpy as np\n",
        "import matplotlib.pyplot as plt\n",
        "datos2 = pd.read_csv('/content/drive/MyDrive/Colab Notebooks/whisky.csv', encoding='latin-1')\n",
        "print(datos2['Precio'].isna().sum()) \n",
        "datos2['Precio'] = datos2['Precio'].fillna(datos2['Precio'].mean())\n",
        "print(datos2.describe()['Precio'])\n",
        "print(datos2)\n",
        "\n",
        "barras1 = pd.value_counts(datos2['Categoria'])\n",
        "#Diagrama de barras ordenado por frecuencia de Fabricante\n",
        "plt.figure()\n",
        "N = len(barras1)\n",
        "plt.bar(np.arange( N ), barras1)  # Gráfico de barras\n",
        "plt.title('Categoria')      # Colocamos el título\n",
        "plt.ylabel('Frecuencia')\n",
        "plt.xticks(np.arange( N ), barras1.index)\n",
        "plt.show()\n",
        "print(datos2['Categoria'].mode())\n",
        "datos2.corr()"
      ],
      "metadata": {
        "id": "1joVjkr7jJS6",
        "colab": {
          "base_uri": "https://localhost:8080/",
          "height": 1000
        },
        "outputId": "d8d3d5b8-ff91-4d7c-eb27-63be07c034f1"
      },
      "execution_count": 43,
      "outputs": [
        {
          "output_type": "stream",
          "name": "stdout",
          "text": [
            "2\n",
            "count     35.000000\n",
            "mean      86.090909\n",
            "std       19.765335\n",
            "min       55.000000\n",
            "25%       73.500000\n",
            "50%       85.000000\n",
            "75%       91.500000\n",
            "max      160.000000\n",
            "Name: Precio, dtype: float64\n",
            "    id_Whisky      Precio  Malta   Categoria  Añejamiento  Calidad\n",
            "0           1   70.000000   20.0        Lujo          5.0        3\n",
            "1           2   60.000000   20.0        Lujo          5.0        2\n",
            "2           3   65.000000   20.0        Lujo          7.5        2\n",
            "3           4   74.000000   25.0        Lujo          NaN        2\n",
            "4           5   70.000000   25.0        Lujo         12.0        3\n",
            "5           6   86.090909   30.0        lujo          5.0        0\n",
            "6           7   70.000000   30.0        Lujo          8.0        0\n",
            "7           8   55.000000   30.0        Lujo          5.0        2\n",
            "8           9   77.000000   30.0        lujo          5.5        0\n",
            "9          10   93.000000   30.0        Lujo         12.0        0\n",
            "10         11   82.000000   30.0        Lujo         12.0        2\n",
            "11         12   73.000000   33.0    Estandar          6.5        1\n",
            "12         13   62.000000   33.0    Estandar          8.0        3\n",
            "13         14   87.000000   33.0    Estandar         12.0        3\n",
            "14         15   78.000000   35.0    estandar         10.0        2\n",
            "15         16   73.000000   40.0    Estandar         10.5        4\n",
            "16         17   87.000000   40.0    Estandar          8.5        2\n",
            "17         18   80.000000   40.0         NaN          8.5        2\n",
            "18         19   85.000000   40.0    Estandar          9.5        2\n",
            "19         20   87.000000   40.0    estandar          8.5        4\n",
            "20         21   80.000000   40.0    Estandar          9.5        2\n",
            "21         22   83.000000   40.0    Estandar          9.5        1\n",
            "22         23   90.000000   40.0    Estandar         12.5        2\n",
            "23         24  110.000000   40.0    Estandar         12.0        3\n",
            "24         25   87.000000   40.0    Estandar          5.5        2\n",
            "25         26  113.000000   45.0         NaN         12.0        4\n",
            "26         27   96.000000   45.0    Estandar         12.0        3\n",
            "27         28   82.000000   45.0    Estandar         12.0        3\n",
            "28         29  127.000000  100.0  Pura_Malta          8.5        4\n",
            "29         30  160.000000  100.0  Pura_Malta         12.0        3\n",
            "30         31   90.000000  100.0  Pura_Malta          NaN        4\n",
            "31         32   86.090909  100.0  Pura_Malta         12.0        2\n",
            "32         33  100.000000  100.0  Pura_Malta         10.0        3\n",
            "33         34  100.000000    NaN  Pura_Malta         11.0        3\n",
            "34         35   95.000000  100.0  Pura_Malta         12.0        0\n"
          ]
        },
        {
          "output_type": "display_data",
          "data": {
            "text/plain": [
              "<Figure size 432x288 with 1 Axes>"
            ],
            "image/png": "[encoded data removed]"
          },
          "metadata": {
            "needs_background": "light"
          }
        },
        {
          "output_type": "stream",
          "name": "stdout",
          "text": [
            "0    Estandar\n",
            "dtype: object\n"
          ]
        },
        {
          "output_type": "execute_result",
          "data": {
            "text/plain": [
              "             id_Whisky    Precio     Malta  Añejamiento   Calidad\n",
              "id_Whisky     1.000000  0.660335  0.827269     0.563860  0.333163\n",
              "Precio        0.660335  1.000000  0.649761     0.480928  0.281856\n",
              "Malta         0.827269  0.649761  1.000000     0.379150  0.241101\n",
              "Añejamiento   0.563860  0.480928  0.379150     1.000000  0.275765\n",
              "Calidad       0.333163  0.281856  0.241101     0.275765  1.000000"
            ],
            "text/html": [
              "\n",
              "  <div id=\"df-ec6590ed-5a0d-4cca-a59e-e171d7b19d54\">\n",
              "    <div class=\"colab-df-container\">\n",
              "      <div>\n",
              "<style scoped>\n",
              "    .dataframe tbody tr th:only-of-type {\n",
              "        vertical-align: middle;\n",
              "    }\n",
              "\n",
              "    .dataframe tbody tr th {\n",
              "        vertical-align: top;\n",
              "    }\n",
              "\n",
              "    .dataframe thead th {\n",
              "        text-align: right;\n",
              "    }\n",
              "</style>\n",
              "<table border=\"1\" class=\"dataframe\">\n",
              "  <thead>\n",
              "    <tr style=\"text-align: right;\">\n",
              "      <th></th>\n",
              "      <th>id_Whisky</th>\n",
              "      <th>Precio</th>\n",
              "      <th>Malta</th>\n",
              "      <th>Añejamiento</th>\n",
              "      <th>Calidad</th>\n",
              "    </tr>\n",
              "  </thead>\n",
              "  <tbody>\n",
              "    <tr>\n",
              "      <th>id_Whisky</th>\n",
              "      <td>1.000000</td>\n",
              "      <td>0.660335</td>\n",
              "      <td>0.827269</td>\n",
              "      <td>0.563860</td>\n",
              "      <td>0.333163</td>\n",
              "    </tr>\n",
              "    <tr>\n",
              "      <th>Precio</th>\n",
              "      <td>0.660335</td>\n",
              "      <td>1.000000</td>\n",
              "      <td>0.649761</td>\n",
              "      <td>0.480928</td>\n",
              "      <td>0.281856</td>\n",
              "    </tr>\n",
              "    <tr>\n",
              "      <th>Malta</th>\n",
              "      <td>0.827269</td>\n",
              "      <td>0.649761</td>\n",
              "      <td>1.000000</td>\n",
              "      <td>0.379150</td>\n",
              "      <td>0.241101</td>\n",
              "    </tr>\n",
              "    <tr>\n",
              "      <th>Añejamiento</th>\n",
              "      <td>0.563860</td>\n",
              "      <td>0.480928</td>\n",
              "      <td>0.379150</td>\n",
              "      <td>1.000000</td>\n",
              "      <td>0.275765</td>\n",
              "    </tr>\n",
              "    <tr>\n",
              "      <th>Calidad</th>\n",
              "      <td>0.333163</td>\n",
              "      <td>0.281856</td>\n",
              "      <td>0.241101</td>\n",
              "      <td>0.275765</td>\n",
              "      <td>1.000000</td>\n",
              "    </tr>\n",
              "  </tbody>\n",
              "</table>\n",
              "</div>\n",
              "      <button class=\"colab-df-convert\" onclick=\"convertToInteractive('df-ec6590ed-5a0d-4cca-a59e-e171d7b19d54')\"\n",
              "              title=\"Convert this dataframe to an interactive table.\"\n",
              "              style=\"display:none;\">\n",
              "        \n",
              "  <svg xmlns=\"http://www.w3.org/2000/svg\" height=\"24px\"viewBox=\"0 0 24 24\"\n",
              "       width=\"24px\">\n",
              "    <path d=\"M0 0h24v24H0V0z\" fill=\"none\"/>\n",
              "    <path d=\"M18.56 5.44l.94 2.06.94-2.06 2.06-.94-2.06-.94-.94-2.06-.94 2.06-2.06.94zm-11 1L8.5 8.5l.94-2.06 2.06-.94-2.06-.94L8.5 2.5l-.94 2.06-2.06.94zm10 10l.94 2.06.94-2.06 2.06-.94-2.06-.94-.94-2.06-.94 2.06-2.06.94z\"/><path d=\"M17.41 7.96l-1.37-1.37c-.4-.4-.92-.59-1.43-.59-.52 0-1.04.2-1.43.59L10.3 9.45l-7.72 7.72c-.78.78-.78 2.05 0 2.83L4 21.41c.39.39.9.59 1.41.59.51 0 1.02-.2 1.41-.59l7.78-7.78 2.81-2.81c.8-.78.8-2.07 0-2.86zM5.41 20L4 18.59l7.72-7.72 1.47 1.35L5.41 20z\"/>\n",
              "  </svg>\n",
              "      </button>\n",
              "      \n",
              "  <style>\n",
              "    .colab-df-container {\n",
              "      display:flex;\n",
              "      flex-wrap:wrap;\n",
              "      gap: 12px;\n",
              "    }\n",
              "\n",
              "    .colab-df-convert {\n",
              "      background-color: #E8F0FE;\n",
              "      border: none;\n",
              "      border-radius: 50%;\n",
              "      cursor: pointer;\n",
              "      display: none;\n",
              "      fill: #1967D2;\n",
              "      height: 32px;\n",
              "      padding: 0 0 0 0;\n",
              "      width: 32px;\n",
              "    }\n",
              "\n",
              "    .colab-df-convert:hover {\n",
              "      background-color: #E2EBFA;\n",
              "      box-shadow: 0px 1px 2px rgba(60, 64, 67, 0.3), 0px 1px 3px 1px rgba(60, 64, 67, 0.15);\n",
              "      fill: #174EA6;\n",
              "    }\n",
              "\n",
              "    [theme=dark] .colab-df-convert {\n",
              "      background-color: #3B4455;\n",
              "      fill: #D2E3FC;\n",
              "    }\n",
              "\n",
              "    [theme=dark] .colab-df-convert:hover {\n",
              "      background-color: #434B5C;\n",
              "      box-shadow: 0px 1px 3px 1px rgba(0, 0, 0, 0.15);\n",
              "      filter: drop-shadow(0px 1px 2px rgba(0, 0, 0, 0.3));\n",
              "      fill: #FFFFFF;\n",
              "    }\n",
              "  </style>\n",
              "\n",
              "      <script>\n",
              "        const buttonEl =\n",
              "          document.querySelector('#df-ec6590ed-5a0d-4cca-a59e-e171d7b19d54 button.colab-df-convert');\n",
              "        buttonEl.style.display =\n",
              "          google.colab.kernel.accessAllowed ? 'block' : 'none';\n",
              "\n",
              "        async function convertToInteractive(key) {\n",
              "          const element = document.querySelector('#df-ec6590ed-5a0d-4cca-a59e-e171d7b19d54');\n",
              "          const dataTable =\n",
              "            await google.colab.kernel.invokeFunction('convertToInteractive',\n",
              "                                                     [key], {});\n",
              "          if (!dataTable) return;\n",
              "\n",
              "          const docLinkHtml = 'Like what you see? Visit the ' +\n",
              "            '<a target=\"_blank\" href=https://colab.research.google.com/notebooks/data_table.ipynb>data table notebook</a>'\n",
              "            + ' to learn more about interactive tables.';\n",
              "          element.innerHTML = '';\n",
              "          dataTable['output_type'] = 'display_data';\n",
              "          await google.colab.output.renderOutput(dataTable, element);\n",
              "          const docLink = document.createElement('div');\n",
              "          docLink.innerHTML = docLinkHtml;\n",
              "          element.appendChild(docLink);\n",
              "        }\n",
              "      </script>\n",
              "    </div>\n",
              "  </div>\n",
              "  "
            ]
          },
          "metadata": {},
          "execution_count": 43
        }
      ]
    },
    {
      "cell_type": "markdown",
      "source": [
        "#Ej 12\n",
        "\n"
      ],
      "metadata": {
        "id": "NOYVbzi91PHr"
      }
    },
    {
      "cell_type": "code",
      "source": [
        "import pandas as pd\n",
        "import numpy as np\n",
        "arr={'Altura':[1.65, 1.81, 1.70, 1.62, 1.74, 1.70, 1.80, 1.73, 1.68], 'Peso':[75, 86, 82, 78, 77, 87, 90, 83, 80]}\n",
        "df = pd.DataFrame(arr)\n",
        "# -- Escala los valores entre 0 y 1 --\n",
        "mini = df['Altura'].min()\n",
        "maxi = df['Altura'].max()\n",
        "df['AlturaLineal']= (df['Altura']-mini)/(maxi-mini)\n",
        "print(df['AlturaLineal']) #Normalizacion minmax\n",
        "df.boxplot(column=['AlturaLineal'], vert=False)"
      ],
      "metadata": {
        "colab": {
          "base_uri": "https://localhost:8080/",
          "height": 456
        },
        "id": "mfxyBpkL1ODv",
        "outputId": "b0d08df4-3202-40c7-ab1d-a3ca2cebed02"
      },
      "execution_count": 62,
      "outputs": [
        {
          "output_type": "stream",
          "name": "stdout",
          "text": [
            "0    0.157895\n",
            "1    1.000000\n",
            "2    0.421053\n",
            "3    0.000000\n",
            "4    0.631579\n",
            "5    0.421053\n",
            "6    0.947368\n",
            "7    0.578947\n",
            "8    0.315789\n",
            "Name: AlturaLineal, dtype: float64\n"
          ]
        },
        {
          "output_type": "execute_result",
          "data": {
            "text/plain": [
              "<matplotlib.axes._subplots.AxesSubplot at 0x7f74c2308f10>"
            ]
          },
          "metadata": {},
          "execution_count": 62
        },
        {
          "output_type": "display_data",
          "data": {
            "text/plain": [
              "<Figure size 432x288 with 1 Axes>"
            ],
            "image/png": "[encoded data removed]"
          },
          "metadata": {
            "needs_background": "light"
          }
        }
      ]
    },
    {
      "cell_type": "code",
      "source": [
        "# -- Estandarización --\n",
        "media = df['Altura'].mean()\n",
        "desvio = df['Altura'].std()\n",
        "df['AlturaStandar']= (df['Altura']-media)/desvio \n",
        "print(df['AlturaStandar']) #Normalizacion Standar\n",
        "df.boxplot(column=['AlturaStandar'], vert=False)"
      ],
      "metadata": {
        "colab": {
          "base_uri": "https://localhost:8080/",
          "height": 456
        },
        "id": "S_efpYar3lv3",
        "outputId": "f20c4c81-9343-4b54-d27e-4bdd70418dbd"
      },
      "execution_count": 63,
      "outputs": [
        {
          "output_type": "stream",
          "name": "stdout",
          "text": [
            "0   -1.018603\n",
            "1    1.510342\n",
            "2   -0.228307\n",
            "3   -1.492780\n",
            "4    0.403929\n",
            "5   -0.228307\n",
            "6    1.352283\n",
            "7    0.245870\n",
            "8   -0.544425\n",
            "Name: AlturaStandar, dtype: float64\n"
          ]
        },
        {
          "output_type": "execute_result",
          "data": {
            "text/plain": [
              "<matplotlib.axes._subplots.AxesSubplot at 0x7f74c22f14d0>"
            ]
          },
          "metadata": {},
          "execution_count": 63
        },
        {
          "output_type": "display_data",
          "data": {
            "text/plain": [
              "<Figure size 432x288 with 1 Axes>"
            ],
            "image/png": "[encoded data removed]"
          },
          "metadata": {
            "needs_background": "light"
          }
        }
      ]
    },
    {
      "cell_type": "code",
      "source": [
        "# -- Robustizacion --\n",
        "Q1 = df.quantile(0.25)['Altura']\n",
        "Q3 = df.quantile(0.75)['Altura']\n",
        "df['AlturaRobust']= (df['Altura']-Q1)/(Q3-Q1)\n",
        "print(df['AlturaRobust']) #Normalizacion Robust\n",
        "df.boxplot(column=['AlturaRobust'], vert=False)"
      ],
      "metadata": {
        "colab": {
          "base_uri": "https://localhost:8080/",
          "height": 456
        },
        "id": "yUPCg1924Uah",
        "outputId": "fb8e9fc7-094b-4ca7-fb1b-ec0e454893ce"
      },
      "execution_count": 64,
      "outputs": [
        {
          "output_type": "stream",
          "name": "stdout",
          "text": [
            "0   -0.500000\n",
            "1    2.166667\n",
            "2    0.333333\n",
            "3   -1.000000\n",
            "4    1.000000\n",
            "5    0.333333\n",
            "6    2.000000\n",
            "7    0.833333\n",
            "8    0.000000\n",
            "Name: AlturaRobust, dtype: float64\n"
          ]
        },
        {
          "output_type": "execute_result",
          "data": {
            "text/plain": [
              "<matplotlib.axes._subplots.AxesSubplot at 0x7f74c22642d0>"
            ]
          },
          "metadata": {},
          "execution_count": 64
        },
        {
          "output_type": "display_data",
          "data": {
            "text/plain": [
              "<Figure size 432x288 with 1 Axes>"
            ],
            "image/png": "[encoded data removed]"
          },
          "metadata": {
            "needs_background": "light"
          }
        }
      ]
    },
    {
      "cell_type": "code",
      "source": [
        "new_row = {'Altura':2.20, 'Peso': 120}\n",
        "df1 = df.append(new_row, ignore_index=True)\n",
        "mini = df1['Altura'].min()\n",
        "maxi = df1['Altura'].max()\n",
        "df1['AlturaLineal']= (df1['Altura']-mini)/(maxi-mini)\n",
        "print(df1['AlturaLineal']) #Normalizacion minmax\n",
        "df1.boxplot(column=['AlturaLineal'], vert=False)"
      ],
      "metadata": {
        "colab": {
          "base_uri": "https://localhost:8080/",
          "height": 473
        },
        "id": "sknn_2JC59JE",
        "outputId": "8c50a4c5-d155-44ba-aee3-74aaef08df95"
      },
      "execution_count": 68,
      "outputs": [
        {
          "output_type": "stream",
          "name": "stdout",
          "text": [
            "0    0.051724\n",
            "1    0.327586\n",
            "2    0.137931\n",
            "3    0.000000\n",
            "4    0.206897\n",
            "5    0.137931\n",
            "6    0.310345\n",
            "7    0.189655\n",
            "8    0.103448\n",
            "9    1.000000\n",
            "Name: AlturaLineal, dtype: float64\n"
          ]
        },
        {
          "output_type": "execute_result",
          "data": {
            "text/plain": [
              "<matplotlib.axes._subplots.AxesSubplot at 0x7f74c2288bd0>"
            ]
          },
          "metadata": {},
          "execution_count": 68
        },
        {
          "output_type": "display_data",
          "data": {
            "text/plain": [
              "<Figure size 432x288 with 1 Axes>"
            ],
            "image/png": "[encoded data removed]"
          },
          "metadata": {
            "needs_background": "light"
          }
        }
      ]
    },
    {
      "cell_type": "code",
      "source": [
        "# -- Estandarización --\n",
        "media1 = df1['Altura'].mean()\n",
        "desvio1 = df1['Altura'].std()\n",
        "df1['AlturaStandar']= (df1['Altura']-media1)/desvio1\n",
        "print(df1['AlturaStandar']) #Normalizacion Standar\n",
        "df1.boxplot(column=['AlturaStandar'], vert=False)"
      ],
      "metadata": {
        "colab": {
          "base_uri": "https://localhost:8080/",
          "height": 473
        },
        "id": "W71qN1Hg66YJ",
        "outputId": "9254eba5-3c11-4102-ab07-0bb6396369f6"
      },
      "execution_count": 69,
      "outputs": [
        {
          "output_type": "stream",
          "name": "stdout",
          "text": [
            "0   -0.685990\n",
            "1    0.285323\n",
            "2   -0.382455\n",
            "3   -0.868112\n",
            "4   -0.139626\n",
            "5   -0.382455\n",
            "6    0.224616\n",
            "7   -0.200333\n",
            "8   -0.503869\n",
            "9    2.652901\n",
            "Name: AlturaStandar, dtype: float64\n"
          ]
        },
        {
          "output_type": "execute_result",
          "data": {
            "text/plain": [
              "<matplotlib.axes._subplots.AxesSubplot at 0x7f74c233c6d0>"
            ]
          },
          "metadata": {},
          "execution_count": 69
        },
        {
          "output_type": "display_data",
          "data": {
            "text/plain": [
              "<Figure size 432x288 with 1 Axes>"
            ],
            "image/png": "[encoded data removed]"
          },
          "metadata": {
            "needs_background": "light"
          }
        }
      ]
    },
    {
      "cell_type": "code",
      "source": [
        "# -- Robustizacion --\n",
        "Q1 = df1.quantile(0.25)['Altura']\n",
        "Q3 = df1.quantile(0.75)['Altura']\n",
        "df1['AlturaRobust']= (df1['Altura']-Q1)/(Q3-Q1)\n",
        "print(df1['AlturaRobust']) #Normalizacion Robust\n",
        "df1.boxplot(column=['AlturaRobust'], vert=False)"
      ],
      "metadata": {
        "colab": {
          "base_uri": "https://localhost:8080/",
          "height": 473
        },
        "id": "SviwVu8e7T_G",
        "outputId": "3f81a9d0-fdf1-497f-8dc8-0f03021783d9"
      },
      "execution_count": 70,
      "outputs": [
        {
          "output_type": "stream",
          "name": "stdout",
          "text": [
            "0   -0.35\n",
            "1    1.25\n",
            "2    0.15\n",
            "3   -0.65\n",
            "4    0.55\n",
            "5    0.15\n",
            "6    1.15\n",
            "7    0.45\n",
            "8   -0.05\n",
            "9    5.15\n",
            "Name: AlturaRobust, dtype: float64\n"
          ]
        },
        {
          "output_type": "execute_result",
          "data": {
            "text/plain": [
              "<matplotlib.axes._subplots.AxesSubplot at 0x7f74c274edd0>"
            ]
          },
          "metadata": {},
          "execution_count": 70
        },
        {
          "output_type": "display_data",
          "data": {
            "text/plain": [
              "<Figure size 432x288 with 1 Axes>"
            ],
            "image/png": "[encoded data removed]"
          },
          "metadata": {
            "needs_background": "light"
          }
        }
      ]
    }
  ]
}